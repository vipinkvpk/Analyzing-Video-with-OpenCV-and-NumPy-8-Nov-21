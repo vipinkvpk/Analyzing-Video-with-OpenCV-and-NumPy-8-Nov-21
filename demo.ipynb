{
 "cells": [
  {
   "cell_type": "code",
   "execution_count": 1,
   "metadata": {},
   "outputs": [],
   "source": [
    "import numpy as np\n",
    "import cv2\n",
    "import matplotlib.pyplot as plt \n",
    "\n",
    "%matplotlib inline\n",
    "\n",
    "VFILE = \"video/hot_rod.mp4\"\n",
    "\n",
    "def get_frames(filename):\n",
    "    video = cv2.VideoCapture(filename)\n",
    "    while video.isOpened():\n",
    "        ret, frame = video.read()\n",
    "        if ret:\n",
    "            yield frame\n",
    "        else:\n",
    "            \n",
    "            break\n",
    "    video.release()\n",
    "    yield None\n",
    "\n"
   ]
  },
  {
   "cell_type": "code",
   "execution_count": 2,
   "metadata": {},
   "outputs": [],
   "source": [
    "for f in get_frames(VFILE):\n",
    "    if f is None:\n",
    "        break\n",
    "    cv2.imshow('frame', f)\n",
    "    # Hit Escape to stop\n",
    "    if cv2.waitKey(10) == 27:\n",
    "        break\n",
    "    \n",
    "cv2.destroyAllWindows()"
   ]
  },
  {
   "cell_type": "code",
   "execution_count": 3,
   "metadata": {},
   "outputs": [],
   "source": [
    "video = cv2.VideoCapture(VFILE)\n",
    "count = int(video.get(cv2.CAP_PROP_FRAME_COUNT))\n",
    "video.release()"
   ]
  },
  {
   "cell_type": "code",
   "execution_count": null,
   "metadata": {},
   "outputs": [],
   "source": [
    "# Collage\n",
    "COLLAGE = (3,5) # 3 rows, 5 columns\n",
    "\n",
    "collage_frames = COLLAGE[0] * COLLAGE[1]\n",
    "skip_frames = count // collage_frames\n",
    "\n",
    "frames = []\n",
    "counter = 0\n",
    "for f in get_frames(VFILE):\n",
    "    if counter > 0 and counter % skip_frames == 0:\n",
    "        frames.append(f)\n",
    "    counter += 1\n",
    "\n",
    "ROWS, COLS, _ = frames[0].shape\n",
    "\n",
    "out = np.zeros( (ROWS*COLLAGE[0], COLS*COLLAGE[1], 3), dtype=np.uint8 )\n",
    "idx = 0\n",
    "for i in range(COLLAGE[0]):\n",
    "    for j in range(COLLAGE[1]):\n",
    "        out[ROWS*i:ROWS*(i+1), COLS*j:COLS*(j+1), :] = frames[idx]\n",
    "        idx += 1\n",
    "\n",
    "out = cv2.resize(out, (out.shape[1]//4, out.shape[0]//4) )\n",
    "cv2.imshow('output', out)\n",
    "cv2.waitKey(0)\n",
    "cv2.destroyAllWindows()   \n"
   ]
  },
  {
   "cell_type": "code",
   "execution_count": null,
   "metadata": {},
   "outputs": [],
   "source": []
  }
 ],
 "metadata": {
  "kernelspec": {
   "display_name": "Python 3",
   "language": "python",
   "name": "python3"
  },
  "language_info": {
   "codemirror_mode": {
    "name": "ipython",
    "version": 3
   },
   "file_extension": ".py",
   "mimetype": "text/x-python",
   "name": "python",
   "nbconvert_exporter": "python",
   "pygments_lexer": "ipython3",
   "version": "3.6.9"
  }
 },
 "nbformat": 4,
 "nbformat_minor": 4
}
